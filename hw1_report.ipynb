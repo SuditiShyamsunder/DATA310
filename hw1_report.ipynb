{
  "nbformat": 4,
  "nbformat_minor": 0,
  "metadata": {
    "colab": {
      "provenance": [],
      "include_colab_link": true
    },
    "kernelspec": {
      "name": "python3",
      "display_name": "Python 3"
    },
    "language_info": {
      "name": "python"
    }
  },
  "cells": [
    {
      "cell_type": "markdown",
      "metadata": {
        "id": "view-in-github",
        "colab_type": "text"
      },
      "source": [
        "<a href=\"https://colab.research.google.com/github/SuditiShyamsunder/DATA310/blob/main/hw1_report.ipynb\" target=\"_parent\"><img src=\"https://colab.research.google.com/assets/colab-badge.svg\" alt=\"Open In Colab\"/></a>"
      ]
    },
    {
      "cell_type": "markdown",
      "source": [
        "# HW1 - Network Elements\n",
        "### Suditi Shyamsunder\n",
        "### DATA 340-02, Spring 2023\n",
        "### 02/14/2023\n"
      ],
      "metadata": {
        "id": "VYHIoECc1xPI"
      }
    },
    {
      "cell_type": "markdown",
      "source": [
        "# Q1\n",
        "\n",
        "Go through the tutorial on Network elements. \n",
        "\n",
        "https://github.com/anwala/teaching-network-science/blob/main/spring-2023/week-2/data_340_02_s23_chp_01_network_elements.ipynb)\n",
        "\n",
        "Implement functions for Exercises 1 -- 3\n"
      ],
      "metadata": {
        "id": "N2VNck0DylKe"
      }
    },
    {
      "cell_type": "markdown",
      "source": [
        "## Answer "
      ],
      "metadata": {
        "id": "GEpTN8Rc0_LA"
      }
    },
    {
      "cell_type": "markdown",
      "source": [
        "### Exercise 1\n",
        "\n",
        "Often in the context of trees, a node with degree 1 is called a leaf. Write a function named get_leaves that takes a graph as an argument, loops through the nodes, and returns a list of nodes with degree 1."
      ],
      "metadata": {
        "id": "1SYWhTc11BGb"
      }
    },
    {
      "cell_type": "code",
      "source": [
        "# The function \n",
        "def get_leaves(G):\n",
        "  leaves = []\n",
        "  for node in G.nodes:\n",
        "    if G.degree(node) == 1: \n",
        "      leaves.append(node)\n",
        "  return(leaves)"
      ],
      "metadata": {
        "id": "ETLZoGBT1JGz"
      },
      "execution_count": null,
      "outputs": []
    },
    {
      "cell_type": "code",
      "source": [
        "# Import\n",
        "import networkx as nx\n",
        "\n",
        "# Testing the function\n",
        "G = nx.Graph()\n",
        "G.add_edges_from([\n",
        "        ('a', 'b'),\n",
        "        ('a', 'd'),\n",
        "        ('c', 'd'),\n",
        "    ])\n",
        "assert set(get_leaves(G)) == {'c', 'b'}, 'failed :('\n",
        "print('success! :)')"
      ],
      "metadata": {
        "colab": {
          "base_uri": "https://localhost:8080/"
        },
        "id": "KNPepNVZ1Nzs",
        "outputId": "49caec53-8bf1-4119-fcd3-438a11298750"
      },
      "execution_count": null,
      "outputs": [
        {
          "output_type": "stream",
          "name": "stdout",
          "text": [
            "success! :)\n"
          ]
        }
      ]
    },
    {
      "cell_type": "markdown",
      "source": [
        "### Exercise 2\n",
        "\n",
        "Write a function max_degree that takes a graph as its argument, and returns a 2-tuple with the name and degree of the node with highest degree."
      ],
      "metadata": {
        "id": "oSgQ6tbs1cNi"
      }
    },
    {
      "cell_type": "code",
      "source": [
        "# The function \n",
        "def max_degree(G):\n",
        "    node_max = ''\n",
        "    degree_max = 0\n",
        "    for node in G.nodes():\n",
        "      if G.degree(node) > degree_max:\n",
        "        degree_max = G.degree(node)\n",
        "        node_max = node\n",
        "    return((node_max, degree_max))"
      ],
      "metadata": {
        "id": "CvHm2lLY1lm0"
      },
      "execution_count": null,
      "outputs": []
    },
    {
      "cell_type": "code",
      "source": [
        "# Testing the function\n",
        "SG = nx.read_adjlist('friends.adjlist')\n",
        "assert max_degree(SG) == ('Claire', 4), 'failed :('\n",
        "print('success! :)')"
      ],
      "metadata": {
        "colab": {
          "base_uri": "https://localhost:8080/"
        },
        "id": "kau_NEgV1ns7",
        "outputId": "041cce5e-c076-4672-c5ea-5eea0f33ad4a"
      },
      "execution_count": null,
      "outputs": [
        {
          "output_type": "stream",
          "name": "stdout",
          "text": [
            "success! :)\n"
          ]
        }
      ]
    },
    {
      "cell_type": "markdown",
      "source": [
        "### Exercise 3\n",
        "\n",
        "Write a function `mutual_friends` that takes a graph and two nodes as arguments, and returns a list (or set) of nodes that are linked to both given nodes. For example, in the graph `SG` drawn above,\n",
        "\n",
        "    mutual_friends(SG, 'Alice', 'Claire') == ['Frank']\n",
        "\n",
        "an empty list or set should be returned in the case where two nodes have no mutual friends, e.g. George and Bob in `SG` drawn above."
      ],
      "metadata": {
        "id": "8APGJQkI5XD_"
      }
    },
    {
      "cell_type": "code",
      "source": [
        "# The function\n",
        "def mutual_friends(G, node_1, node_2):\n",
        "  node1_friends =list(G.neighbors(node_1))\n",
        "  node2_friends = list(G.neighbors(node_2))\n",
        "  mutuals = set(node1_friends).intersection(node2_friends)\n",
        "  return(list(mutuals))"
      ],
      "metadata": {
        "id": "FjT4XPHU7UE3"
      },
      "execution_count": null,
      "outputs": []
    },
    {
      "cell_type": "code",
      "source": [
        "# Testing the function\n",
        "SG = nx.read_adjlist('friends.adjlist')\n",
        "assert mutual_friends(SG, 'Alice', 'Claire') == ['Frank'], 'failed :('\n",
        "assert mutual_friends(SG, 'George', 'Bob') == [], 'failed :('\n",
        "assert sorted(mutual_friends(SG, 'Claire', 'George')) == ['Dennis', 'Frank'], 'failed :('\n",
        "print('success! :)')"
      ],
      "metadata": {
        "colab": {
          "base_uri": "https://localhost:8080/"
        },
        "id": "62YxwMtq7Wv9",
        "outputId": "63927d54-a385-44b2-a560-3fa2e9c93acb"
      },
      "execution_count": null,
      "outputs": [
        {
          "output_type": "stream",
          "name": "stdout",
          "text": [
            "success! :)\n"
          ]
        }
      ]
    },
    {
      "cell_type": "markdown",
      "source": [
        "## Discussion\n",
        "\n",
        "For Exercise 1, in order to find all the leaves (nodes with a degree of 1), I first wrote a for loop to iterate through each of the nodes in the graph. Next, I used the G.degree(node) function to get the degree of each node, and if it was equal to 1, I appended it to a list of leaves. Last, I returned that list. \n",
        "\n",
        "For Exercise 2, in order to find the node with the highest degree, I knew I needed to write a for loop to iterate through the degrees until I found the highest one. However before that, I created 2 variables, node_max and degree_max which represent the name of the node and the degree of the node with the highest degree. I started with just an empty list and 0 as their values, then in the for loop, if the degree of a node was larger that became the highest node, and I updated the values of the two variables. Finally, I returned a touple with both values. \n",
        "\n",
        "For Exercise 3, I needed to find the mutual friends between 2 nodes, which means I needed to find the neighbors that each node has in common. I used the G.neighbors(node) function to make lists of the neighbors of node_1 and of node_2. Next, I used a function called .intersection() to find what values were common between the two lists. I then returned a list with the mutual friends. \n",
        "\n",
        "This was my favorite part of the assignment because it is fun to write little programs that make you think. It also allowed me to brush up on my python, which is always helpful. \n",
        "\n"
      ],
      "metadata": {
        "id": "CL4_WDbOzkGK"
      }
    },
    {
      "cell_type": "markdown",
      "source": [
        "# Q2\n",
        "\n",
        "Consider this adjacency matrix.\n",
        "\n",
        "![diagram](https://drive.google.com/uc?id=1Lvle567DiXIJk3EC3ez-OotYAIBjiHvK)\n",
        "\n",
        "An entry in the ith row and jth column indicates the weight of the link from node i to node j. For instance, the entry in the second row and third column is 2, meaning the weight of the link from node B to node C is 2. \n",
        "\n",
        "What kind of network does this matrix represent?\n",
        "\n",
        "a. Undirected, unweighted\n",
        "\n",
        "b. Undirected, weighted\n",
        "\n",
        "c. Directed, unweighted\n",
        "\n",
        "d. Directed, weighted\n",
        "\n",
        "Why?"
      ],
      "metadata": {
        "id": "GknKIQR6zFUB"
      }
    },
    {
      "cell_type": "markdown",
      "source": [
        "## Answer\n",
        "\n",
        "This matrix represents a network that is Directed and Weighted. Therefore, the correct answer is D. "
      ],
      "metadata": {
        "id": "wfP53Pirz88l"
      }
    },
    {
      "cell_type": "markdown",
      "source": [
        "## Discussion \n",
        "\n",
        "There are kind of two subquestions within Q2. The first is whether the matrix represents a weighted or unweighted network. In order to figure this out, I looked at the numerical values in the matrix. Since there were weights of 2 and 3, I knew it was weighted. Since not all the values are 0 or 1, some links are weighed more heavily, meaning it is a weighted network. \n",
        "\n",
        "Second, I had to determine if the network represented by the matrix is directed or undirected. In an undirected network, if there is a link between any 2 nodes such as B and C, then the same link should exist in the matrix between C and B. However, in the matrix, this is not the case. Row 2 (B) and Column 3 (C) has a link of weight 3, but Column 2 (B) and Row 3 (C) has a value of 0 that signifies there is no link in that direction. Therefore, this is a directed network. \n",
        "\n",
        "So putting these two realizations together, we can see the network is directed and weighted. "
      ],
      "metadata": {
        "id": "gYkt4Pr70GbE"
      }
    },
    {
      "cell_type": "markdown",
      "source": [
        "# Q3\n",
        "\n",
        "Consider the network defined by the adjacency matrix in Q2. How many nodes are in this network? How many links? Are there any self-loops?\n",
        "\n",
        "Discuss how you arrived at your answer."
      ],
      "metadata": {
        "id": "Q6aE0AIW0PmB"
      }
    },
    {
      "cell_type": "markdown",
      "source": [
        "## Answer\n",
        "\n",
        "There are 6 nodes in the network. \n",
        "\n",
        "There are 10 links in the network. \n",
        "\n",
        "There are no self-loops. "
      ],
      "metadata": {
        "id": "Tm0hlNyw0SHv"
      }
    },
    {
      "cell_type": "markdown",
      "source": [
        "## Discussion\n",
        "In order to figure out how many nodes there are in the network, I just had to look at the dimensions of the matrix. The matrix is 6 by 6. The A, B, C, D, E, and F on that make up these dimensions are the nodes, so there are 6 in total. \n",
        "\n",
        "In order to figure out how many links there are in this directed network, we just have to count the number of non-zero values in the matrix. Each non-zero value signifies a link of weight 1 or greater. We have the following values: 1, 2, 1, 1, 1, 2, 1, 3, 1, 1. There are 10 values in total, so there are 10 links. \n",
        "\n",
        "In order to see if there are any self loops, we need to see if there are any links between the same node. This is signified by the diagonal of the matrix going from the top left to the bottom right. Since each of these values are 0, there are no links from one node to itself, and therefore there are no self-loops. "
      ],
      "metadata": {
        "id": "t9aWYCZ_0Um2"
      }
    },
    {
      "cell_type": "markdown",
      "source": [
        "# Q4\n",
        "\n",
        "Webflix keeps data on customer preferences using a bipartite network connecting users to movies they have watched and/or rated. Webflix's movie library contains approximately 1,000 movies. In the fourth quarter of 2022, Webflix reported having about 5,000 users. Also, on average, a user has watched and/or rated 750 movies. Approximately how many links are in this network? Would you consider this network sparse or dense? Explain."
      ],
      "metadata": {
        "id": "HP5ISu5g0j1l"
      }
    },
    {
      "cell_type": "markdown",
      "source": [
        "## Answer\n",
        "\n",
        "5,000 * 750 = 3,750,000 \n",
        "There are approximately 3,750,000 links in this network. \n",
        "\n",
        "This is overall a pretty dense network. (density = .75)"
      ],
      "metadata": {
        "id": "iCg7JS0d0kBR"
      }
    },
    {
      "cell_type": "markdown",
      "source": [
        "## Discussion\n",
        "\n",
        "In order to approximate the number of links, I had to calculate about how many connections there are between movies and users. Since there are about 5,000 and each has watched/rated about 750 movies, we can multiply these two values to get an approximate number of links (5,000 * 750 = 3,750,000). \n",
        "\n",
        "In terms of density, the total number of links that could exist is 5,000 (number of users) * 1,000 (total number of movies), which is 5,000,0000. The approximate density is 3,750,000/5,000,000 = .75. This is overall pretty high, meaning the network is on the denser end. This also makes sense if you think about the fact that each user is watching/rating 750 out of the 1,000 movies available, which is a pretty good proportion (75%). "
      ],
      "metadata": {
        "id": "inKyD1R60kOU"
      }
    },
    {
      "cell_type": "markdown",
      "source": [
        "# References\n",
        "\n",
        "* Embedding your image in google colab markdown, <https://medium.com/analytics-vidhya/embedding-your-image-in-google-colab-markdown-3998d5ac2684>\n",
        "* Find common elements in two lists in python, <https://java2blog.com/find-common-elements-in-two-lists-python/#:~:text=Using%20%26%20Operator-,Using%20the%20intersection()%20Function,are%20common%20in%20two%20sets.>\n",
        "* DATA 340-02 - Chapter 01 - Network element, <https://github.com/anwala/teaching-network-science/blob/main/spring-2023/week-2/data_340_02_s23_chp_01_network_elements.ipynb>"
      ],
      "metadata": {
        "id": "WVEPKYbky335"
      }
    }
  ]
}